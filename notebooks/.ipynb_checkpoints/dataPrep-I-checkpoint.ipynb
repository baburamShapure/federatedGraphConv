{
 "cells": [
  {
   "cell_type": "markdown",
   "metadata": {},
   "source": [
    "# Part 1: Merge multi-csv into 1 csv. "
   ]
  },
  {
   "cell_type": "code",
   "execution_count": 1,
   "metadata": {},
   "outputs": [],
   "source": [
    "import pandas as pd \n",
    "import os "
   ]
  },
  {
   "cell_type": "code",
   "execution_count": 8,
   "metadata": {},
   "outputs": [],
   "source": [
    "# change to others. \n",
    "DATADIR = '..\\data\\MHEALTHDATASET'"
   ]
  },
  {
   "cell_type": "code",
   "execution_count": 23,
   "metadata": {},
   "outputs": [],
   "source": [
    "colnames= ['feature_{}'.format(i) for i in range(1, 24)] + ['encoded_activity']"
   ]
  },
  {
   "cell_type": "code",
   "execution_count": 31,
   "metadata": {},
   "outputs": [],
   "source": [
    "datalist =[]\n",
    "for each_file in os.listdir(DATADIR): \n",
    "    if 'log' in each_file: \n",
    "        tmp = pd.read_csv(os.path.join(DATADIR, each_file), sep = '\\t' ,header = None)\n",
    "        tmp.columns = colnames \n",
    "        tmp['user_id'] = each_file.split('_')[1].split('.')[0][7:]\n",
    "        datalist.append(tmp)\n",
    "data = pd.concat(datalist)"
   ]
  },
  {
   "cell_type": "code",
   "execution_count": 37,
   "metadata": {},
   "outputs": [],
   "source": [
    "activity_map={}\n",
    "activity_map[1]='Standing still'\n",
    "activity_map[2]='Sitting and relaxing'\n",
    "activity_map[3]='Lying down'\n",
    "activity_map[4]='Walking'\n",
    "activity_map[5]='Climbing stairs'\n",
    "activity_map[6]='Waist bends forward'\n",
    "activity_map[7]='Frontal elevation of arms'\n",
    "activity_map[8]='Knees bending'\n",
    "activity_map[9]='Cycling'\n",
    "activity_map[10]='Jogging'\n",
    "activity_map[11]='Running'\n",
    "activity_map[12]='Jump front & back'\n",
    "data['activity'] =  data['encoded_activity'].map(activity_map)\n",
    "data[data['encoded_activity'] > 0].to_csv('..\\data\\merged_raw.csv', index = None)"
   ]
  }
 ],
 "metadata": {
  "kernelspec": {
   "display_name": "Python 3",
   "language": "python",
   "name": "python3"
  },
  "language_info": {
   "codemirror_mode": {
    "name": "ipython",
    "version": 3
   },
   "file_extension": ".py",
   "mimetype": "text/x-python",
   "name": "python",
   "nbconvert_exporter": "python",
   "pygments_lexer": "ipython3",
   "version": "3.8.3"
  }
 },
 "nbformat": 4,
 "nbformat_minor": 4
}
