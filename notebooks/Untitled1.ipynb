{
 "cells": [
  {
   "cell_type": "code",
   "execution_count": 3,
   "metadata": {
    "scrolled": true
   },
   "outputs": [],
   "source": [
    "import os \n",
    "import pandas as pd \n",
    "import torch \n",
    "import torch.nn as nn \n",
    "import numpy as np \n",
    "import networkx as nx \n",
    "from torch_geometric.data import InMemoryDataset, Data, DataLoader\n",
    "from torch.utils.data import  Dataset\n",
    "from torch.nn import Linear \n",
    "import torch.optim as optim \n",
    "from torch_geometric.nn import GCNConv\n",
    "import time\n",
    "import tqdm \n",
    "import random\n",
    "import copy"
   ]
  },
  {
   "cell_type": "code",
   "execution_count": 2,
   "metadata": {},
   "outputs": [
    {
     "output_type": "execute_result",
     "data": {
      "text/plain": [
       "'c:\\\\Users\\\\abhi\\\\Documents\\\\GEEK\\\\GNN\\\\ours'"
      ]
     },
     "metadata": {},
     "execution_count": 2
    }
   ],
   "source": [
    "os.getcwd()"
   ]
  },
  {
   "cell_type": "code",
   "execution_count": 4,
   "metadata": {},
   "outputs": [],
   "source": [
    "datadir = 'data//processed//wisdm'"
   ]
  },
  {
   "cell_type": "code",
   "execution_count": 4,
   "metadata": {},
   "outputs": [],
   "source": [
    "each_agent = '1'"
   ]
  },
  {
   "cell_type": "code",
   "execution_count": null,
   "metadata": {},
   "outputs": [],
   "source": []
  },
  {
   "cell_type": "code",
   "execution_count": 5,
   "metadata": {},
   "outputs": [
    {
     "output_type": "error",
     "ename": "NameError",
     "evalue": "name 'each_agent' is not defined",
     "traceback": [
      "\u001b[1;31m---------------------------------------------------------------------------\u001b[0m",
      "\u001b[1;31mNameError\u001b[0m                                 Traceback (most recent call last)",
      "\u001b[1;32m<ipython-input-5-522a71e754bb>\u001b[0m in \u001b[0;36m<module>\u001b[1;34m\u001b[0m\n\u001b[1;32m----> 1\u001b[1;33m \u001b[0medge_index\u001b[0m \u001b[1;33m=\u001b[0m \u001b[0mpd\u001b[0m\u001b[1;33m.\u001b[0m\u001b[0mread_csv\u001b[0m\u001b[1;33m(\u001b[0m\u001b[0mos\u001b[0m\u001b[1;33m.\u001b[0m\u001b[0mpath\u001b[0m\u001b[1;33m.\u001b[0m\u001b[0mjoin\u001b[0m\u001b[1;33m(\u001b[0m\u001b[0mdatadir\u001b[0m\u001b[1;33m,\u001b[0m \u001b[0meach_agent\u001b[0m\u001b[1;33m,\u001b[0m \u001b[1;34m'edge_list.txt'\u001b[0m\u001b[1;33m)\u001b[0m\u001b[1;33m,\u001b[0m \u001b[0mheader\u001b[0m \u001b[1;33m=\u001b[0m \u001b[1;32mNone\u001b[0m\u001b[1;33m)\u001b[0m\u001b[1;33m.\u001b[0m\u001b[0mvalues\u001b[0m\u001b[1;33m\u001b[0m\u001b[1;33m\u001b[0m\u001b[0m\n\u001b[0m\u001b[0;32m      2\u001b[0m \u001b[1;31m# node features.\u001b[0m\u001b[1;33m\u001b[0m\u001b[1;33m\u001b[0m\u001b[1;33m\u001b[0m\u001b[0m\n\u001b[0;32m      3\u001b[0m \u001b[1;31m# print(edge_index)\u001b[0m\u001b[1;33m\u001b[0m\u001b[1;33m\u001b[0m\u001b[1;33m\u001b[0m\u001b[0m\n\u001b[0;32m      4\u001b[0m \u001b[0mx\u001b[0m \u001b[1;33m=\u001b[0m \u001b[0mpd\u001b[0m\u001b[1;33m.\u001b[0m\u001b[0mread_csv\u001b[0m\u001b[1;33m(\u001b[0m\u001b[0mos\u001b[0m\u001b[1;33m.\u001b[0m\u001b[0mpath\u001b[0m\u001b[1;33m.\u001b[0m\u001b[0mjoin\u001b[0m\u001b[1;33m(\u001b[0m\u001b[0mdatadir\u001b[0m\u001b[1;33m,\u001b[0m \u001b[0meach_agent\u001b[0m\u001b[1;33m,\u001b[0m \u001b[1;34m'node_attributes.txt'\u001b[0m\u001b[1;33m)\u001b[0m\u001b[1;33m,\u001b[0m \u001b[0mheader\u001b[0m \u001b[1;33m=\u001b[0m \u001b[1;32mNone\u001b[0m\u001b[1;33m)\u001b[0m\u001b[1;33m.\u001b[0m\u001b[0mvalues\u001b[0m\u001b[1;33m\u001b[0m\u001b[1;33m\u001b[0m\u001b[0m\n\u001b[0;32m      5\u001b[0m \u001b[1;31m# node labels. /\u001b[0m\u001b[1;33m\u001b[0m\u001b[1;33m\u001b[0m\u001b[1;33m\u001b[0m\u001b[0m\n",
      "\u001b[1;31mNameError\u001b[0m: name 'each_agent' is not defined"
     ]
    }
   ],
   "source": [
    "edge_index = pd.read_csv(os.path.join(datadir, each_agent, 'edge_list.txt'), header = None).values\n",
    "# node features.\n",
    "# print(edge_index)\n",
    "x = pd.read_csv(os.path.join(datadir, each_agent, 'node_attributes.txt'), header = None).values\n",
    "# node labels. /\n",
    "y = pd.read_csv(os.path.join(datadir, each_agent, 'node_labels.txt'), header = None).values\n",
    "\n",
    "# convert to tensors. \n",
    "edge_index = torch.tensor(edge_index, dtype= torch.long).t().contiguous()\n",
    "x = torch.tensor(x, dtype=torch.float)\n",
    "y = torch.tensor(y, dtype= torch.long)\n",
    "# create a tensor of boolean values \n",
    "# to randomly mask out test data points. \n",
    "train_mask = pd.read_csv(os.path.join(datadir, each_agent, 'train_mask.txt'), header = None).values\n",
    "train_mask = torch.tensor(train_mask, dtype = torch.bool).squeeze()"
   ]
  },
  {
   "cell_type": "code",
   "execution_count": 6,
   "metadata": {},
   "outputs": [
    {
     "output_type": "error",
     "ename": "NameError",
     "evalue": "name 'x' is not defined",
     "traceback": [
      "\u001b[1;31m---------------------------------------------------------------------------\u001b[0m",
      "\u001b[1;31mNameError\u001b[0m                                 Traceback (most recent call last)",
      "\u001b[1;32m<ipython-input-6-19daf3f10c99>\u001b[0m in \u001b[0;36m<module>\u001b[1;34m\u001b[0m\n\u001b[1;32m----> 1\u001b[1;33m \u001b[0mtmp\u001b[0m\u001b[1;33m=\u001b[0m  \u001b[0mData\u001b[0m\u001b[1;33m(\u001b[0m\u001b[0mx\u001b[0m\u001b[1;33m=\u001b[0m \u001b[0mx\u001b[0m\u001b[1;33m,\u001b[0m \u001b[0medge_index\u001b[0m \u001b[1;33m=\u001b[0m \u001b[0medge_index\u001b[0m\u001b[1;33m,\u001b[0m \u001b[0my\u001b[0m \u001b[1;33m=\u001b[0m \u001b[0my\u001b[0m\u001b[1;33m,\u001b[0m \u001b[0mtrain_mask\u001b[0m \u001b[1;33m=\u001b[0m \u001b[0mtrain_mask\u001b[0m\u001b[1;33m)\u001b[0m\u001b[1;33m\u001b[0m\u001b[1;33m\u001b[0m\u001b[0m\n\u001b[0m",
      "\u001b[1;31mNameError\u001b[0m: name 'x' is not defined"
     ]
    }
   ],
   "source": [
    "tmp=  Data(x= x, edge_index = edge_index, y = y, train_mask = train_mask)"
   ]
  },
  {
   "cell_type": "code",
   "execution_count": 7,
   "metadata": {},
   "outputs": [],
   "source": [
    "class GCN(torch.nn.Module):\n",
    "    def __init__(self, input_dim, num_class):\n",
    "        super(GCN, self).__init__()\n",
    "        torch.manual_seed(12345)\n",
    "        self.conv1 = GCNConv(input_dim, 128)\n",
    "        self.conv2 = GCNConv(128, 128)\n",
    "        self.conv3 = GCNConv(128, 128)\n",
    "        self.dropout = nn.Dropout(0.5)\n",
    "        self.classifier1 = nn.Linear(128, 64)\n",
    "        self.classifier2 = nn.Linear(64, num_class)\n",
    "\n",
    "    def forward(self, x, edge_index):\n",
    "        h = self.conv1(x, edge_index)\n",
    "        h = h.tanh()\n",
    "        h = self.conv2(h, edge_index)\n",
    "        h = h.tanh()\n",
    "        h = self.conv3(h, edge_index)\n",
    "        h = h.tanh()  # Final GNN embedding space.\n",
    "        # Apply a final (linear) classifier.\n",
    "        h  = self.dropout(h)\n",
    "        out = self.classifier1(h)\n",
    "        out = self.dropout(out)\n",
    "        out = self.classifier2(out)\n",
    "        return out, h"
   ]
  },
  {
   "cell_type": "code",
   "execution_count": 8,
   "metadata": {},
   "outputs": [],
   "source": [
    "model = GCN(3, 6)"
   ]
  },
  {
   "cell_type": "code",
   "execution_count": 9,
   "metadata": {},
   "outputs": [],
   "source": [
    "class HARDataCentral(InMemoryDataset): \n",
    "    \"\"\"create a dataset object given a\n",
    "    directory for fitting a centralized model. \n",
    "\n",
    "    create a list instead a single dataframe. \n",
    "    \"\"\"\n",
    "    def __init__(self, dir, TRAIN_PROP=0.7):\n",
    "        super().__init__()\n",
    "        data_components = ['edge_list.txt', 'node_attributes.txt', 'node_labels']\n",
    "        #TODO: check if all component text files are present. \n",
    "        \n",
    "        datalist = []\n",
    "        all_agents = os.listdir(dir)\n",
    "        for each_agent in all_agents: \n",
    "            # adjacency.\n",
    "\n",
    "            edge_index = pd.read_csv(os.path.join(dir, each_agent, 'edge_list.txt'), header = None).values\n",
    "            # node features.\n",
    "            # print(edge_index)\n",
    "            x = pd.read_csv(os.path.join(dir, each_agent, 'node_attributes.txt'), header = None).values\n",
    "            # node labels. \n",
    "            y = pd.read_csv(os.path.join(dir, each_agent, 'node_labels.txt'), header = None).values\n",
    "    \n",
    "            # convert to tensors. \n",
    "            edge_index = torch.tensor(edge_index, dtype= torch.long).t().contiguous()\n",
    "            x = torch.tensor(x, dtype=torch.float)\n",
    "            y = torch.tensor(y, dtype= torch.long)\n",
    "            # create a tensor of boolean values \n",
    "            # to randomly mask out test data points. \n",
    "            train_mask = pd.read_csv(os.path.join(dir, each_agent, 'train_mask.txt'), header = None).values\n",
    "            train_mask = torch.tensor(train_mask, dtype = torch.bool).squeeze()\n",
    "\n",
    "            datalist.append(Data(x= x, edge_index = edge_index, y = y, train_mask = train_mask))\n",
    "        \n",
    "        self.data, self.slices = self.collate(datalist)\n",
    "    \n",
    "    def __repr__(self): \n",
    "        return '{}()'.format(self.__class__.__name__)"
   ]
  },
  {
   "cell_type": "code",
   "execution_count": 10,
   "metadata": {},
   "outputs": [],
   "source": [
    "dataset  = HARDataCentral(datadir)\n"
   ]
  },
  {
   "cell_type": "code",
   "execution_count": 11,
   "metadata": {},
   "outputs": [],
   "source": [
    "loader = DataLoader(dataset, batch_size= 4, shuffle = True)"
   ]
  },
  {
   "cell_type": "code",
   "execution_count": 14,
   "metadata": {},
   "outputs": [
    {
     "output_type": "stream",
     "name": "stdout",
     "text": [
      "5\n7\n"
     ]
    }
   ],
   "source": [
    "for i, batch in enumerate(loader):\n",
    "    try:\n",
    "        outs = model(batch.x, batch.edge_index)\n",
    "    except Exception as e:\n",
    "        print(i)\n"
   ]
  },
  {
   "cell_type": "code",
   "execution_count": 42,
   "metadata": {},
   "outputs": [],
   "source": [
    "outs = model(batch.x, batch.edge_index)"
   ]
  },
  {
   "cell_type": "code",
   "execution_count": 45,
   "metadata": {},
   "outputs": [
    {
     "output_type": "execute_result",
     "data": {
      "text/plain": [
       "tensor([[-0.3726, -0.2376,  0.2365, -0.0396,  0.0340,  0.2282],\n",
       "        [-0.1221, -0.4789, -0.0988, -0.2357,  0.2977,  0.1967],\n",
       "        [-0.6896, -0.4705, -0.5127,  0.3169,  0.2051, -0.6212],\n",
       "        ...,\n",
       "        [ 0.2532, -0.2496, -0.7491, -0.5941,  0.3751, -0.0759],\n",
       "        [-0.1253, -0.2631, -0.4897, -0.1894,  0.3567, -0.2931],\n",
       "        [-0.6299, -0.0358, -0.4780,  0.1049,  0.0071,  0.2216]],\n",
       "       grad_fn=<IndexBackward>)"
      ]
     },
     "metadata": {},
     "execution_count": 45
    }
   ],
   "source": [
    "outs[0][batch.train_mask]"
   ]
  },
  {
   "cell_type": "code",
   "execution_count": 36,
   "metadata": {},
   "outputs": [
    {
     "output_type": "execute_result",
     "data": {
      "text/plain": [
       "tensor([ True, False,  True,  ...,  True,  True,  True])"
      ]
     },
     "metadata": {},
     "execution_count": 36
    }
   ],
   "source": [
    "batch.train_mask "
   ]
  },
  {
   "cell_type": "code",
   "execution_count": 35,
   "metadata": {},
   "outputs": [
    {
     "output_type": "execute_result",
     "data": {
      "text/plain": [
       "['1',\n",
       " '10',\n",
       " '11',\n",
       " '12',\n",
       " '13',\n",
       " '14',\n",
       " '15',\n",
       " '17',\n",
       " '18',\n",
       " '19',\n",
       " '2',\n",
       " '21',\n",
       " '22',\n",
       " '23',\n",
       " '24',\n",
       " '25',\n",
       " '26',\n",
       " '27',\n",
       " '28',\n",
       " '29',\n",
       " '3',\n",
       " '30',\n",
       " '31',\n",
       " '32',\n",
       " '34',\n",
       " '36',\n",
       " '5',\n",
       " '6',\n",
       " '8',\n",
       " '9']"
      ]
     },
     "metadata": {},
     "execution_count": 35
    }
   ],
   "source": [
    "all_agents = os.listdir(datadir)\n",
    "all_agents\n"
   ]
  },
  {
   "cell_type": "code",
   "execution_count": 36,
   "metadata": {},
   "outputs": [],
   "source": [
    "# all_agents = os.listdir(datadir)\n",
    "for each_agent in all_agents: \n",
    "    # adjacency.\n",
    "    edge_index = pd.read_csv(os.path.join(datadir, each_agent, 'edge_list.txt'), header = None).values\n",
    "    # node features.\n",
    "    # print(edge_index)\n",
    "    x = pd.read_csv(os.path.join(datadir, each_agent, 'node_attributes.txt'), header = None).values\n",
    "    # node labels. \n",
    "    y = pd.read_csv(os.path.join(datadir, each_agent, 'node_labels.txt'), header = None).values\n",
    "\n",
    "    # convert to tensors. \n",
    "    edge_index = torch.tensor(edge_index, dtype= torch.long).t().contiguous()\n",
    "    x = torch.tensor(x, dtype=torch.float)\n",
    "    y = torch.tensor(y, dtype= torch.long)\n",
    "    # create a tensor of boolean values \n",
    "    # to randomly mask out test data points. \n",
    "    train_mask = pd.read_csv(os.path.join(datadir, each_agent, 'train_mask.txt'), header = None).values\n",
    "    train_mask = torch.tensor(train_mask, dtype = torch.bool).squeeze()\n",
    "    tmp = Data(x= x, edge_index = edge_index, y = y, train_mask = train_mask)\n",
    "    try:\n",
    "        model(tmp.x, tmp.edge_index)\n",
    "    except Exception as e: \n",
    "        print('agent: {0}'.format(each_agent))"
   ]
  }
 ],
 "metadata": {
  "kernelspec": {
   "display_name": "Python 3",
   "language": "python",
   "name": "python3"
  },
  "language_info": {
   "codemirror_mode": {
    "name": "ipython",
    "version": 3
   },
   "file_extension": ".py",
   "mimetype": "text/x-python",
   "name": "python",
   "nbconvert_exporter": "python",
   "pygments_lexer": "ipython3",
   "version": "3.8.5"
  }
 },
 "nbformat": 4,
 "nbformat_minor": 4
}