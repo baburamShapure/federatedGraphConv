{
 "metadata": {
  "language_info": {
   "codemirror_mode": {
    "name": "ipython",
    "version": 3
   },
   "file_extension": ".py",
   "mimetype": "text/x-python",
   "name": "python",
   "nbconvert_exporter": "python",
   "pygments_lexer": "ipython3",
   "version": "3.8.5"
  },
  "orig_nbformat": 2,
  "kernelspec": {
   "name": "python385jvsc74a57bd054eb1c8ece2dcd35e7bc473e4bce3ae67a9168e9d916a4588e2494f3a286530c",
   "display_name": "Python 3.8.5 64-bit ('dl': conda)"
  }
 },
 "nbformat": 4,
 "nbformat_minor": 2,
 "cells": [
  {
   "cell_type": "code",
   "execution_count": 1,
   "metadata": {},
   "outputs": [],
   "source": [
    "import os \n",
    "import pandas as pd \n",
    "import torch \n",
    "import torch.nn as nn \n",
    "import numpy as np \n",
    "import networkx as nx \n",
    "from torch_geometric.data import InMemoryDataset, Data\n",
    "# from prep_mhealth import prep_mhealth\n",
    "# from prep_wisdm import prep_wisdm\n",
    "from torch.nn import Linear \n",
    "import torch.optim as optim \n",
    "from torch_geometric.nn import GCNConv\n",
    "import time\n",
    "import tqdm \n",
    "import random\n",
    "import copy\n",
    "from torch_geometric.data import DataLoader\n",
    "# from model_utils import * \n",
    "import datetime as dttm \n",
    "import argparse\n",
    "from mlflow import log_metric, log_param, log_artifacts\n",
    "import mlflow "
   ]
  },
  {
   "cell_type": "code",
   "execution_count": 2,
   "metadata": {},
   "outputs": [],
   "source": [
    "os.getcwd()\n",
    "os.chdir('../scripts')\n",
    "from prep_mhealth import prep_mhealth\n",
    "from prep_wisdm import prep_wisdm\n",
    "from model_utils import * \n",
    "os.chdir('../')"
   ]
  },
  {
   "cell_type": "code",
   "execution_count": 3,
   "metadata": {},
   "outputs": [
    {
     "output_type": "execute_result",
     "data": {
      "text/plain": [
       "'c:\\\\Users\\\\abhi\\\\Documents\\\\GEEK\\\\GNN\\\\ours'"
      ]
     },
     "metadata": {},
     "execution_count": 3
    }
   ],
   "source": [
    "os.getcwd()"
   ]
  },
  {
   "cell_type": "code",
   "execution_count": 4,
   "metadata": {},
   "outputs": [
    {
     "output_type": "stream",
     "name": "stderr",
     "text": [
      "  0%|          | 0/36 [00:00<?, ?it/s]Preparing Data. \n",
      "100%|██████████| 36/36 [00:46<00:00,  1.30s/it]Data preparation finished. \n",
      "\n"
     ]
    }
   ],
   "source": [
    "prep_wisdm(128, 1, 0.7)"
   ]
  },
  {
   "cell_type": "code",
   "execution_count": 5,
   "metadata": {},
   "outputs": [],
   "source": [
    "def train(data, criterion):\n",
    "    model.train()\n",
    "    optimizer.zero_grad()  \n",
    "    out = model(data.x, data.edge_index)\n",
    "    y = data.y.squeeze().t() - 1\n",
    "    loss = criterion(out[data.train_mask], y[data.train_mask]  ) \n",
    "    accuracy = torch.mean((torch.argmax(out[~data.train_mask] , 1) == y[~data.train_mask]).float())\n",
    "    loss.backward() \n",
    "    optimizer.step()  \n",
    "    return loss\n",
    "\n",
    "def evaluate(data): \n",
    "        model.eval()\n",
    "        y = data.y.squeeze().t() - 1\n",
    "        out = model(data.x, data.edge_index)  \n",
    "        accuracy = torch.mean((torch.argmax(out[~data.train_mask] , 1) == y[~data.train_mask]).float())\n",
    "        return accuracy"
   ]
  },
  {
   "cell_type": "code",
   "execution_count": 6,
   "metadata": {},
   "outputs": [],
   "source": [
    "num_class = 6\n",
    "input_dim = 9\n",
    "BATCH_SIZE = 12\n",
    "DATADIR  = 'data/processed/wisdm'\n",
    "dataset  = HARDataCentral(DATADIR)\n",
    "model = GCN_wisdm(input_dim, num_class)"
   ]
  },
  {
   "cell_type": "code",
   "execution_count": 7,
   "metadata": {},
   "outputs": [
    {
     "output_type": "execute_result",
     "data": {
      "text/plain": [
       "GCN_wisdm(\n",
       "  (conv1): GCNConv(9, 256)\n",
       "  (dropout): Dropout(p=0.5, inplace=False)\n",
       "  (bn1): BatchNorm1d(256, eps=1e-05, momentum=0.1, affine=True, track_running_stats=True)\n",
       "  (fc2): Linear(in_features=256, out_features=128, bias=True)\n",
       "  (out): Linear(in_features=128, out_features=6, bias=True)\n",
       ")"
      ]
     },
     "metadata": {},
     "execution_count": 7
    }
   ],
   "source": [
    "model"
   ]
  },
  {
   "cell_type": "code",
   "execution_count": 8,
   "metadata": {},
   "outputs": [],
   "source": [
    "loader = DataLoader(dataset, batch_size= BATCH_SIZE, shuffle = True)\n",
    "loss = nn.CrossEntropyLoss()\n",
    "optimizer = optim.Adam(model.parameters(), lr = 0.01)"
   ]
  },
  {
   "cell_type": "code",
   "execution_count": 9,
   "metadata": {},
   "outputs": [
    {
     "output_type": "stream",
     "name": "stderr",
     "text": [
      "100%|██████████| 1/1 [00:00<00:00,  1.98it/s]\n"
     ]
    }
   ],
   "source": [
    "EPOCHS = 1\n",
    "for epoch in tqdm.tqdm(range(EPOCHS)):\n",
    "    for i, batch in enumerate(loader): \n",
    "        loss_ = train(batch, loss)  "
   ]
  },
  {
   "cell_type": "code",
   "execution_count": 10,
   "metadata": {},
   "outputs": [
    {
     "output_type": "execute_result",
     "data": {
      "text/plain": [
       "['1',\n",
       " '10',\n",
       " '11',\n",
       " '12',\n",
       " '13',\n",
       " '14',\n",
       " '15',\n",
       " '16',\n",
       " '17',\n",
       " '18',\n",
       " '19',\n",
       " '2',\n",
       " '20',\n",
       " '21',\n",
       " '22',\n",
       " '23',\n",
       " '24',\n",
       " '25',\n",
       " '26',\n",
       " '27',\n",
       " '28',\n",
       " '29',\n",
       " '3',\n",
       " '30',\n",
       " '31',\n",
       " '32',\n",
       " '33',\n",
       " '34',\n",
       " '35',\n",
       " '36',\n",
       " '4',\n",
       " '5',\n",
       " '6',\n",
       " '7',\n",
       " '8',\n",
       " '9']"
      ]
     },
     "metadata": {},
     "execution_count": 10
    }
   ],
   "source": [
    "os.listdir(DATADIR)"
   ]
  },
  {
   "cell_type": "code",
   "execution_count": 11,
   "metadata": {},
   "outputs": [],
   "source": [
    "import pandas as pd \n",
    "import numpy as np \n",
    "import os \n",
    "import networkx as nx \n",
    "import matplotlib.colors as mcolors\n",
    "import random \n",
    "import scipy.spatial as sp \n",
    "import tqdm \n",
    "\n",
    "# datadir = 'data/WISDM_ar_v1.1'\n",
    "\n",
    "activity_map={}\n",
    "activity_map[1]='Walking'\n",
    "activity_map[2]='Jogging'\n",
    "activity_map[3]='Upstairs'\n",
    "activity_map[4]='Downstairs'\n",
    "activity_map[5]='Sitting'\n",
    "activity_map[6]='Standing'\n",
    "\n",
    "activity_map={}\n",
    "activity_map['Walking']=1\n",
    "activity_map['Jogging']=2 \n",
    "activity_map['Upstairs']= 3\n",
    "activity_map['Downstairs']= 4\n",
    "activity_map['Sitting']= 5\n",
    "activity_map['Standing'] = 6\n",
    "  \n",
    "\n",
    "def add_encoded_activity(filename, datadir, sep = \"\\t\"):\n",
    "    \"\"\"given raw user data \n",
    "    add the encoded activity column\n",
    "    \"\"\"\n",
    "    user_data = pd.read_csv(os.path.join(datadir, filename), \n",
    "                            sep = sep)\n",
    "    # print(user_data.shape)\n",
    "    colnames= ['user_id', 'activity', 'timestamp'] + ['feature_{}'.format(i) for i in range(1, 4)] \n",
    "    user_data.columns = colnames\n",
    "    user_data['encoded_activity'] =  user_data['activity'].map(activity_map)\n",
    "    # user_data['user_id'] = filename.split('_')[1].split('.')[0][7:]\n",
    "    user_data = user_data[['user_id', 'encoded_activity', 'feature_1', 'feature_2', 'feature_3']]\n",
    "\n",
    "    return user_data\n",
    "\n",
    "def average_slice(df_, NUM_SAMPLE = 128):\n",
    "    \"\"\"prepare time slices and \n",
    "    average over each time slice. \n",
    "    \"\"\"\n",
    "    out = []\n",
    "    num_groups = df_.shape[0] // NUM_SAMPLE\n",
    "    for i in range(0, df_.shape[0], NUM_SAMPLE): \n",
    "        idx = (i , min(df_.shape[0], i + NUM_SAMPLE))    \n",
    "        tmp = df_.iloc[idx[0]:idx[1], :]\n",
    "        averaged = pd.DataFrame(tmp.iloc[:, -3:].apply(np.mean)).T\n",
    "        out.append(pd.concat([averaged, tmp.iloc[:1, :-3].reset_index(drop = True)], axis = 1))\n",
    "    out = pd.concat(out)\n",
    "    out['encoded_activity'] = out['encoded_activity'].apply(int)\n",
    "    out.index = range(out.shape[0])\n",
    "    return out\n",
    "\n",
    "def prepare_graph(user_data, THRESHOLD = 3):\n",
    "    \"\"\"given the data for a user \n",
    "    prepare the graph. \n",
    "    \"\"\"\n",
    "    # print(user_data.head())\n",
    "    # prepare the distance matrix. \n",
    "    dist_mat = pd.DataFrame(sp.distance_matrix(user_data.iloc[:, :3].values, \n",
    "                                               user_data.iloc[:, :3].values))\n",
    "\n",
    "    cols = random.choices(list(mcolors.CSS4_COLORS.keys()), k =15)\n",
    "    cols_dict = {}\n",
    "    for i in range(1, 13):\n",
    "        cols_dict[i] = cols[i]\n",
    "\n",
    "    G = nx.Graph() \n",
    "    for i, row in user_data.iterrows(): \n",
    "        G.add_nodes_from([(i+1, {'features': row[:3]})])\n",
    "                        \n",
    "    for idx, row in dist_mat.iterrows(): \n",
    "        tmp = row.iloc[idx: ]\n",
    "        # all elements close to row. First is default by itself. \n",
    "        neighbors = list(tmp[tmp <= THRESHOLD].index)\n",
    "\n",
    "        for each_neighbor in neighbors[1: ]: \n",
    "            G.add_edge(idx, each_neighbor, weight = row[each_neighbor])\n",
    "\n",
    "    return G\n",
    "\n",
    "def write_node_attributes(G, dir): \n",
    "    __  = G.nodes.data()\n",
    "    with open(os.path.join(dir, 'node_attributes.txt'), 'w') as f: \n",
    "        for each_node in __ : \n",
    "            if len(each_node) > 0: \n",
    "                ftr = each_node[1]['features'].values\n",
    "                print(ftr)\n",
    "                for each_line in ftr: \n",
    "                    f.writeline(each_line)\n",
    "                f.writelines('\\n')\n",
    "    f.close()\n",
    "     \n",
    "def write_graph(G, dir): \n",
    "    \"\"\"\n",
    "    write a graph G into a directory dir. \n",
    "    \"\"\"\n",
    "    with open(os.path.join(dir, 'edge_list.txt'), 'w') as f :\n",
    "        for line in nx.generate_edgelist(G, delimiter = ',', data = False ):\n",
    "            f.writelines(line)\n",
    "            f.writelines('\\n')\n",
    "            f.writelines(','.join(line.split(',')[::-1]))\n",
    "            f.writelines('\\n')\n",
    "        f.close()\n",
    "\n",
    "def prep_wisdm(num_sample, dist_thresh, train_prop): \n",
    "    print('Preparing Data. ')\n",
    "    DATADIR = 'data\\WISDM'\n",
    "    for each_file in tqdm.tqdm(os.listdir(DATADIR)):\n",
    "        if each_file not in ['wisdm_subject'+str(i) for i in [4, 7, 16, 20, 33, 35 ]]:\n",
    "            # print(each_file)\n",
    "            user = each_file.split('_')[1].split('.')[0][7:] \n",
    "            tmp = add_encoded_activity(each_file, DATADIR, sep =',')\n",
    "            tmp1 = average_slice(tmp, num_sample)\n",
    "            gr = prepare_graph(tmp1, dist_thresh)\n",
    "\n",
    "            if user not in os.listdir('data\\processed\\wisdm'): \n",
    "                os.mkdir(os.path.join('data\\processed\\wisdm', user))\n",
    "            \n",
    "            tmp1.iloc[:, :3].to_csv(os.path.join('data\\processed\\wisdm', user, 'node_attributes' + '.txt'), \n",
    "                                    header = None, index = None)\n",
    "            # prepare training mask. \n",
    "            ar = pd.DataFrame(np.random.uniform(0, 1,   \n",
    "                                tmp1.shape[0]) >= 1 - train_prop, \n",
    "                                columns = ['train_mask'])\n",
    "\n",
    "            tmp1['encoded_activity'].to_csv(os.path.join('data\\processed\\wisdm', user, 'node_labels' + '.txt'), \n",
    "                                            header = None, index = None)\n",
    "            ar.to_csv(os.path.join('data\\processed\\wisdm', user, 'train_mask.txt'), \n",
    "                                            header = None, index = None)\n",
    "            write_graph(gr, os.path.join('data\\processed\\wisdm', user))\n",
    "    print('Data preparation finished. ')\n",
    "\n",
    "num_sample = 128\n",
    "dist_thresh = 1"
   ]
  },
  {
   "cell_type": "code",
   "execution_count": 48,
   "metadata": {},
   "outputs": [
    {
     "output_type": "stream",
     "name": "stderr",
     "text": [
      "  3%|▎         | 1/36 [00:00<00:25,  1.38it/s]1\n",
      "[2.42837009 2.83151481 3.30060591]\n",
      "--\n",
      "2\n",
      "[2.42771548 2.83548248 3.31383582]\n",
      "--\n",
      "3\n",
      "[2.3945594  2.84170108 3.49850391]\n",
      "--\n",
      "4\n",
      "[2.4977261  2.89352989 3.23753342]\n",
      "--\n",
      "  3%|▎         | 1/36 [00:01<00:55,  1.59s/it]\n"
     ]
    }
   ],
   "source": [
    "DATADIR = 'data\\WISDM'\n",
    "counter = 1\n",
    "for each_file in tqdm.tqdm(os.listdir(DATADIR)):\n",
    "    if each_file not in ['wisdm_subject'+str(i) for i in [4, 7, 16, 20, 33, 35 ]]:\n",
    "            user = each_file.split('_')[1].split('.')[0][7:] \n",
    "            tmp = add_encoded_activity(each_file, DATADIR, sep =',')\n",
    "            tmp1 = average_slice(tmp, num_sample)\n",
    "            gr = prepare_graph(tmp1, dist_thresh)\n",
    "            counter += 1\n",
    "            if counter == 3: \n",
    "                break\n",
    "            for i, grp in tmp1.groupby('encoded_activity'): \n",
    "                print(i)\n",
    "                dist_mat = pd.DataFrame(sp.distance.cdist(grp.iloc[:, :3].values, \n",
    "                                        grp.iloc[:, :3].values,\n",
    "                                        metric = 'mahalanobis'))\n",
    "                x = dist_mat.values.reshape(1,-1).ravel()\n",
    "                print(np.quantile(x, [0.5, 0.75, 0.9]))\n",
    "                print('--')"
   ]
  },
  {
   "cell_type": "code",
   "execution_count": 13,
   "metadata": {},
   "outputs": [
    {
     "output_type": "execute_result",
     "data": {
      "text/plain": [
       "   feature_1  feature_2  feature_3  user_id  encoded_activity\n",
       "0   3.801953   9.931250  -0.510234        1                 1\n",
       "1   3.859609   9.889609  -0.556406        1                 1\n",
       "2   3.559687   9.974844  -0.704531        1                 1\n",
       "3   3.454062  10.361719  -0.654922        1                 1\n",
       "4   3.275781  10.053750  -0.509687        1                 1\n",
       "5   3.181484  10.177266  -0.634609        1                 1\n",
       "6   2.889453  10.159062  -0.530234        1                 1\n",
       "7   2.873047  10.313906  -0.616563        1                 1\n",
       "8   2.594141  10.285547  -0.581484        1                 1\n",
       "9   2.328359  10.337266  -0.615781        1                 1"
      ],
      "text/html": "<div>\n<style scoped>\n    .dataframe tbody tr th:only-of-type {\n        vertical-align: middle;\n    }\n\n    .dataframe tbody tr th {\n        vertical-align: top;\n    }\n\n    .dataframe thead th {\n        text-align: right;\n    }\n</style>\n<table border=\"1\" class=\"dataframe\">\n  <thead>\n    <tr style=\"text-align: right;\">\n      <th></th>\n      <th>feature_1</th>\n      <th>feature_2</th>\n      <th>feature_3</th>\n      <th>user_id</th>\n      <th>encoded_activity</th>\n    </tr>\n  </thead>\n  <tbody>\n    <tr>\n      <th>0</th>\n      <td>3.801953</td>\n      <td>9.931250</td>\n      <td>-0.510234</td>\n      <td>1</td>\n      <td>1</td>\n    </tr>\n    <tr>\n      <th>1</th>\n      <td>3.859609</td>\n      <td>9.889609</td>\n      <td>-0.556406</td>\n      <td>1</td>\n      <td>1</td>\n    </tr>\n    <tr>\n      <th>2</th>\n      <td>3.559687</td>\n      <td>9.974844</td>\n      <td>-0.704531</td>\n      <td>1</td>\n      <td>1</td>\n    </tr>\n    <tr>\n      <th>3</th>\n      <td>3.454062</td>\n      <td>10.361719</td>\n      <td>-0.654922</td>\n      <td>1</td>\n      <td>1</td>\n    </tr>\n    <tr>\n      <th>4</th>\n      <td>3.275781</td>\n      <td>10.053750</td>\n      <td>-0.509687</td>\n      <td>1</td>\n      <td>1</td>\n    </tr>\n    <tr>\n      <th>5</th>\n      <td>3.181484</td>\n      <td>10.177266</td>\n      <td>-0.634609</td>\n      <td>1</td>\n      <td>1</td>\n    </tr>\n    <tr>\n      <th>6</th>\n      <td>2.889453</td>\n      <td>10.159062</td>\n      <td>-0.530234</td>\n      <td>1</td>\n      <td>1</td>\n    </tr>\n    <tr>\n      <th>7</th>\n      <td>2.873047</td>\n      <td>10.313906</td>\n      <td>-0.616563</td>\n      <td>1</td>\n      <td>1</td>\n    </tr>\n    <tr>\n      <th>8</th>\n      <td>2.594141</td>\n      <td>10.285547</td>\n      <td>-0.581484</td>\n      <td>1</td>\n      <td>1</td>\n    </tr>\n    <tr>\n      <th>9</th>\n      <td>2.328359</td>\n      <td>10.337266</td>\n      <td>-0.615781</td>\n      <td>1</td>\n      <td>1</td>\n    </tr>\n  </tbody>\n</table>\n</div>"
     },
     "metadata": {},
     "execution_count": 13
    }
   ],
   "source": [
    "tmp1.head(10)"
   ]
  },
  {
   "cell_type": "code",
   "execution_count": 18,
   "metadata": {},
   "outputs": [],
   "source": []
  },
  {
   "cell_type": "code",
   "execution_count": 22,
   "metadata": {},
   "outputs": [
    {
     "output_type": "stream",
     "name": "stdout",
     "text": [
      "[2.16704875 2.63935567 3.63036826 5.58326335]\n"
     ]
    }
   ],
   "source": []
  },
  {
   "cell_type": "code",
   "execution_count": 16,
   "metadata": {},
   "outputs": [
    {
     "output_type": "stream",
     "name": "stdout",
     "text": [
      "1\n[2.42837009 2.83151481 3.30060591]\n--\n2\n[2.42771548 2.83548248 3.31383582]\n--\n3\n[2.3945594  2.84170108 3.49850391]\n--\n4\n[2.4977261  2.89352989 3.23753342]\n--\n"
     ]
    }
   ],
   "source": [
    "for i, grp in tmp1.groupby('encoded_activity'): \n",
    "    print(i)\n",
    "    dist_mat = pd.DataFrame(sp.distance.cdist(grp.iloc[:, :3].values, \n",
    "                            grp.iloc[:, :3].values,\n",
    "                            metric = 'mahalanobis'))\n",
    "    x = dist_mat.values.reshape(1,-1).ravel()\n",
    "    print(np.quantile(x, [0.5, 0.75, 0.9]))\n",
    "    print('--')"
   ]
  },
  {
   "cell_type": "code",
   "execution_count": 24,
   "metadata": {},
   "outputs": [
    {
     "output_type": "execute_result",
     "data": {
      "text/plain": [
       "(array([1533., 1602., 3700., 2006.,  672.,  374.,  228.,   64.,   12.,\n",
       "          10.]),\n",
       " array([0.        , 0.8107239 , 1.6214478 , 2.43217169, 3.24289559,\n",
       "        4.05361949, 4.86434339, 5.67506728, 6.48579118, 7.29651508,\n",
       "        8.10723898]),\n",
       " <BarContainer object of 10 artists>)"
      ]
     },
     "metadata": {},
     "execution_count": 24
    },
    {
     "output_type": "display_data",
     "data": {
      "text/plain": "<Figure size 432x288 with 1 Axes>",
      "image/svg+xml": "<?xml version=\"1.0\" encoding=\"utf-8\" standalone=\"no\"?>\r\n<!DOCTYPE svg PUBLIC \"-//W3C//DTD SVG 1.1//EN\"\r\n  \"http://www.w3.org/Graphics/SVG/1.1/DTD/svg11.dtd\">\r\n<!-- Created with matplotlib (https://matplotlib.org/) -->\r\n<svg height=\"248.518125pt\" version=\"1.1\" viewBox=\"0 0 381.65 248.518125\" width=\"381.65pt\" xmlns=\"http://www.w3.org/2000/svg\" xmlns:xlink=\"http://www.w3.org/1999/xlink\">\r\n <metadata>\r\n  <rdf:RDF xmlns:cc=\"http://creativecommons.org/ns#\" xmlns:dc=\"http://purl.org/dc/elements/1.1/\" xmlns:rdf=\"http://www.w3.org/1999/02/22-rdf-syntax-ns#\">\r\n   <cc:Work>\r\n    <dc:type rdf:resource=\"http://purl.org/dc/dcmitype/StillImage\"/>\r\n    <dc:date>2021-04-26T08:02:57.772689</dc:date>\r\n    <dc:format>image/svg+xml</dc:format>\r\n    <dc:creator>\r\n     <cc:Agent>\r\n      <dc:title>Matplotlib v3.3.4, https://matplotlib.org/</dc:title>\r\n     </cc:Agent>\r\n    </dc:creator>\r\n   </cc:Work>\r\n  </rdf:RDF>\r\n </metadata>\r\n <defs>\r\n  <style type=\"text/css\">*{stroke-linecap:butt;stroke-linejoin:round;}</style>\r\n </defs>\r\n <g id=\"figure_1\">\r\n  <g id=\"patch_1\">\r\n   <path d=\"M -0 248.518125 \r\nL 381.65 248.518125 \r\nL 381.65 0 \r\nL -0 0 \r\nz\r\n\" style=\"fill:none;\"/>\r\n  </g>\r\n  <g id=\"axes_1\">\r\n   <g id=\"patch_2\">\r\n    <path d=\"M 39.65 224.64 \r\nL 374.45 224.64 \r\nL 374.45 7.2 \r\nL 39.65 7.2 \r\nz\r\n\" style=\"fill:#ffffff;\"/>\r\n   </g>\r\n   <g id=\"patch_3\">\r\n    <path clip-path=\"url(#pa826f04071)\" d=\"M 54.868182 224.64 \r\nL 85.304545 224.64 \r\nL 85.304545 138.839351 \r\nL 54.868182 138.839351 \r\nz\r\n\" style=\"fill:#1f77b4;\"/>\r\n   </g>\r\n   <g id=\"patch_4\">\r\n    <path clip-path=\"url(#pa826f04071)\" d=\"M 85.304545 224.64 \r\nL 115.740909 224.64 \r\nL 115.740909 134.977483 \r\nL 85.304545 134.977483 \r\nz\r\n\" style=\"fill:#1f77b4;\"/>\r\n   </g>\r\n   <g id=\"patch_5\">\r\n    <path clip-path=\"url(#pa826f04071)\" d=\"M 115.740909 224.64 \r\nL 146.177273 224.64 \r\nL 146.177273 17.554286 \r\nL 115.740909 17.554286 \r\nz\r\n\" style=\"fill:#1f77b4;\"/>\r\n   </g>\r\n   <g id=\"patch_6\">\r\n    <path clip-path=\"url(#pa826f04071)\" d=\"M 146.177273 224.64 \r\nL 176.613636 224.64 \r\nL 176.613636 112.365961 \r\nL 146.177273 112.365961 \r\nz\r\n\" style=\"fill:#1f77b4;\"/>\r\n   </g>\r\n   <g id=\"patch_7\">\r\n    <path clip-path=\"url(#pa826f04071)\" d=\"M 176.613636 224.64 \r\nL 207.05 224.64 \r\nL 207.05 187.028757 \r\nL 176.613636 187.028757 \r\nz\r\n\" style=\"fill:#1f77b4;\"/>\r\n   </g>\r\n   <g id=\"patch_8\">\r\n    <path clip-path=\"url(#pa826f04071)\" d=\"M 207.05 224.64 \r\nL 237.486364 224.64 \r\nL 237.486364 203.707552 \r\nL 207.05 203.707552 \r\nz\r\n\" style=\"fill:#1f77b4;\"/>\r\n   </g>\r\n   <g id=\"patch_9\">\r\n    <path clip-path=\"url(#pa826f04071)\" d=\"M 237.486364 224.64 \r\nL 267.922727 224.64 \r\nL 267.922727 211.879042 \r\nL 237.486364 211.879042 \r\nz\r\n\" style=\"fill:#1f77b4;\"/>\r\n   </g>\r\n   <g id=\"patch_10\">\r\n    <path clip-path=\"url(#pa826f04071)\" d=\"M 267.922727 224.64 \r\nL 298.359091 224.64 \r\nL 298.359091 221.057977 \r\nL 267.922727 221.057977 \r\nz\r\n\" style=\"fill:#1f77b4;\"/>\r\n   </g>\r\n   <g id=\"patch_11\">\r\n    <path clip-path=\"url(#pa826f04071)\" d=\"M 298.359091 224.64 \r\nL 328.795455 224.64 \r\nL 328.795455 223.968371 \r\nL 298.359091 223.968371 \r\nz\r\n\" style=\"fill:#1f77b4;\"/>\r\n   </g>\r\n   <g id=\"patch_12\">\r\n    <path clip-path=\"url(#pa826f04071)\" d=\"M 328.795455 224.64 \r\nL 359.231818 224.64 \r\nL 359.231818 224.080309 \r\nL 328.795455 224.080309 \r\nz\r\n\" style=\"fill:#1f77b4;\"/>\r\n   </g>\r\n   <g id=\"matplotlib.axis_1\">\r\n    <g id=\"xtick_1\">\r\n     <g id=\"line2d_1\">\r\n      <defs>\r\n       <path d=\"M 0 0 \r\nL 0 3.5 \r\n\" id=\"m956e5d641f\" style=\"stroke:#000000;stroke-width:0.8;\"/>\r\n      </defs>\r\n      <g>\r\n       <use style=\"stroke:#000000;stroke-width:0.8;\" x=\"54.868182\" xlink:href=\"#m956e5d641f\" y=\"224.64\"/>\r\n      </g>\r\n     </g>\r\n     <g id=\"text_1\">\r\n      <!-- 0 -->\r\n      <g transform=\"translate(51.686932 239.238437)scale(0.1 -0.1)\">\r\n       <defs>\r\n        <path d=\"M 31.78125 66.40625 \r\nQ 24.171875 66.40625 20.328125 58.90625 \r\nQ 16.5 51.421875 16.5 36.375 \r\nQ 16.5 21.390625 20.328125 13.890625 \r\nQ 24.171875 6.390625 31.78125 6.390625 \r\nQ 39.453125 6.390625 43.28125 13.890625 \r\nQ 47.125 21.390625 47.125 36.375 \r\nQ 47.125 51.421875 43.28125 58.90625 \r\nQ 39.453125 66.40625 31.78125 66.40625 \r\nz\r\nM 31.78125 74.21875 \r\nQ 44.046875 74.21875 50.515625 64.515625 \r\nQ 56.984375 54.828125 56.984375 36.375 \r\nQ 56.984375 17.96875 50.515625 8.265625 \r\nQ 44.046875 -1.421875 31.78125 -1.421875 \r\nQ 19.53125 -1.421875 13.0625 8.265625 \r\nQ 6.59375 17.96875 6.59375 36.375 \r\nQ 6.59375 54.828125 13.0625 64.515625 \r\nQ 19.53125 74.21875 31.78125 74.21875 \r\nz\r\n\" id=\"DejaVuSans-48\"/>\r\n       </defs>\r\n       <use xlink:href=\"#DejaVuSans-48\"/>\r\n      </g>\r\n     </g>\r\n    </g>\r\n    <g id=\"xtick_2\">\r\n     <g id=\"line2d_2\">\r\n      <g>\r\n       <use style=\"stroke:#000000;stroke-width:0.8;\" x=\"92.410388\" xlink:href=\"#m956e5d641f\" y=\"224.64\"/>\r\n      </g>\r\n     </g>\r\n     <g id=\"text_2\">\r\n      <!-- 1 -->\r\n      <g transform=\"translate(89.229138 239.238437)scale(0.1 -0.1)\">\r\n       <defs>\r\n        <path d=\"M 12.40625 8.296875 \r\nL 28.515625 8.296875 \r\nL 28.515625 63.921875 \r\nL 10.984375 60.40625 \r\nL 10.984375 69.390625 \r\nL 28.421875 72.90625 \r\nL 38.28125 72.90625 \r\nL 38.28125 8.296875 \r\nL 54.390625 8.296875 \r\nL 54.390625 0 \r\nL 12.40625 0 \r\nz\r\n\" id=\"DejaVuSans-49\"/>\r\n       </defs>\r\n       <use xlink:href=\"#DejaVuSans-49\"/>\r\n      </g>\r\n     </g>\r\n    </g>\r\n    <g id=\"xtick_3\">\r\n     <g id=\"line2d_3\">\r\n      <g>\r\n       <use style=\"stroke:#000000;stroke-width:0.8;\" x=\"129.952594\" xlink:href=\"#m956e5d641f\" y=\"224.64\"/>\r\n      </g>\r\n     </g>\r\n     <g id=\"text_3\">\r\n      <!-- 2 -->\r\n      <g transform=\"translate(126.771344 239.238437)scale(0.1 -0.1)\">\r\n       <defs>\r\n        <path d=\"M 19.1875 8.296875 \r\nL 53.609375 8.296875 \r\nL 53.609375 0 \r\nL 7.328125 0 \r\nL 7.328125 8.296875 \r\nQ 12.9375 14.109375 22.625 23.890625 \r\nQ 32.328125 33.6875 34.8125 36.53125 \r\nQ 39.546875 41.84375 41.421875 45.53125 \r\nQ 43.3125 49.21875 43.3125 52.78125 \r\nQ 43.3125 58.59375 39.234375 62.25 \r\nQ 35.15625 65.921875 28.609375 65.921875 \r\nQ 23.96875 65.921875 18.8125 64.3125 \r\nQ 13.671875 62.703125 7.8125 59.421875 \r\nL 7.8125 69.390625 \r\nQ 13.765625 71.78125 18.9375 73 \r\nQ 24.125 74.21875 28.421875 74.21875 \r\nQ 39.75 74.21875 46.484375 68.546875 \r\nQ 53.21875 62.890625 53.21875 53.421875 \r\nQ 53.21875 48.921875 51.53125 44.890625 \r\nQ 49.859375 40.875 45.40625 35.40625 \r\nQ 44.1875 33.984375 37.640625 27.21875 \r\nQ 31.109375 20.453125 19.1875 8.296875 \r\nz\r\n\" id=\"DejaVuSans-50\"/>\r\n       </defs>\r\n       <use xlink:href=\"#DejaVuSans-50\"/>\r\n      </g>\r\n     </g>\r\n    </g>\r\n    <g id=\"xtick_4\">\r\n     <g id=\"line2d_4\">\r\n      <g>\r\n       <use style=\"stroke:#000000;stroke-width:0.8;\" x=\"167.4948\" xlink:href=\"#m956e5d641f\" y=\"224.64\"/>\r\n      </g>\r\n     </g>\r\n     <g id=\"text_4\">\r\n      <!-- 3 -->\r\n      <g transform=\"translate(164.31355 239.238437)scale(0.1 -0.1)\">\r\n       <defs>\r\n        <path d=\"M 40.578125 39.3125 \r\nQ 47.65625 37.796875 51.625 33 \r\nQ 55.609375 28.21875 55.609375 21.1875 \r\nQ 55.609375 10.40625 48.1875 4.484375 \r\nQ 40.765625 -1.421875 27.09375 -1.421875 \r\nQ 22.515625 -1.421875 17.65625 -0.515625 \r\nQ 12.796875 0.390625 7.625 2.203125 \r\nL 7.625 11.71875 \r\nQ 11.71875 9.328125 16.59375 8.109375 \r\nQ 21.484375 6.890625 26.8125 6.890625 \r\nQ 36.078125 6.890625 40.9375 10.546875 \r\nQ 45.796875 14.203125 45.796875 21.1875 \r\nQ 45.796875 27.640625 41.28125 31.265625 \r\nQ 36.765625 34.90625 28.71875 34.90625 \r\nL 20.21875 34.90625 \r\nL 20.21875 43.015625 \r\nL 29.109375 43.015625 \r\nQ 36.375 43.015625 40.234375 45.921875 \r\nQ 44.09375 48.828125 44.09375 54.296875 \r\nQ 44.09375 59.90625 40.109375 62.90625 \r\nQ 36.140625 65.921875 28.71875 65.921875 \r\nQ 24.65625 65.921875 20.015625 65.03125 \r\nQ 15.375 64.15625 9.8125 62.3125 \r\nL 9.8125 71.09375 \r\nQ 15.4375 72.65625 20.34375 73.4375 \r\nQ 25.25 74.21875 29.59375 74.21875 \r\nQ 40.828125 74.21875 47.359375 69.109375 \r\nQ 53.90625 64.015625 53.90625 55.328125 \r\nQ 53.90625 49.265625 50.4375 45.09375 \r\nQ 46.96875 40.921875 40.578125 39.3125 \r\nz\r\n\" id=\"DejaVuSans-51\"/>\r\n       </defs>\r\n       <use xlink:href=\"#DejaVuSans-51\"/>\r\n      </g>\r\n     </g>\r\n    </g>\r\n    <g id=\"xtick_5\">\r\n     <g id=\"line2d_5\">\r\n      <g>\r\n       <use style=\"stroke:#000000;stroke-width:0.8;\" x=\"205.037006\" xlink:href=\"#m956e5d641f\" y=\"224.64\"/>\r\n      </g>\r\n     </g>\r\n     <g id=\"text_5\">\r\n      <!-- 4 -->\r\n      <g transform=\"translate(201.855756 239.238437)scale(0.1 -0.1)\">\r\n       <defs>\r\n        <path d=\"M 37.796875 64.3125 \r\nL 12.890625 25.390625 \r\nL 37.796875 25.390625 \r\nz\r\nM 35.203125 72.90625 \r\nL 47.609375 72.90625 \r\nL 47.609375 25.390625 \r\nL 58.015625 25.390625 \r\nL 58.015625 17.1875 \r\nL 47.609375 17.1875 \r\nL 47.609375 0 \r\nL 37.796875 0 \r\nL 37.796875 17.1875 \r\nL 4.890625 17.1875 \r\nL 4.890625 26.703125 \r\nz\r\n\" id=\"DejaVuSans-52\"/>\r\n       </defs>\r\n       <use xlink:href=\"#DejaVuSans-52\"/>\r\n      </g>\r\n     </g>\r\n    </g>\r\n    <g id=\"xtick_6\">\r\n     <g id=\"line2d_6\">\r\n      <g>\r\n       <use style=\"stroke:#000000;stroke-width:0.8;\" x=\"242.579212\" xlink:href=\"#m956e5d641f\" y=\"224.64\"/>\r\n      </g>\r\n     </g>\r\n     <g id=\"text_6\">\r\n      <!-- 5 -->\r\n      <g transform=\"translate(239.397962 239.238437)scale(0.1 -0.1)\">\r\n       <defs>\r\n        <path d=\"M 10.796875 72.90625 \r\nL 49.515625 72.90625 \r\nL 49.515625 64.59375 \r\nL 19.828125 64.59375 \r\nL 19.828125 46.734375 \r\nQ 21.96875 47.46875 24.109375 47.828125 \r\nQ 26.265625 48.1875 28.421875 48.1875 \r\nQ 40.625 48.1875 47.75 41.5 \r\nQ 54.890625 34.8125 54.890625 23.390625 \r\nQ 54.890625 11.625 47.5625 5.09375 \r\nQ 40.234375 -1.421875 26.90625 -1.421875 \r\nQ 22.3125 -1.421875 17.546875 -0.640625 \r\nQ 12.796875 0.140625 7.71875 1.703125 \r\nL 7.71875 11.625 \r\nQ 12.109375 9.234375 16.796875 8.0625 \r\nQ 21.484375 6.890625 26.703125 6.890625 \r\nQ 35.15625 6.890625 40.078125 11.328125 \r\nQ 45.015625 15.765625 45.015625 23.390625 \r\nQ 45.015625 31 40.078125 35.4375 \r\nQ 35.15625 39.890625 26.703125 39.890625 \r\nQ 22.75 39.890625 18.8125 39.015625 \r\nQ 14.890625 38.140625 10.796875 36.28125 \r\nz\r\n\" id=\"DejaVuSans-53\"/>\r\n       </defs>\r\n       <use xlink:href=\"#DejaVuSans-53\"/>\r\n      </g>\r\n     </g>\r\n    </g>\r\n    <g id=\"xtick_7\">\r\n     <g id=\"line2d_7\">\r\n      <g>\r\n       <use style=\"stroke:#000000;stroke-width:0.8;\" x=\"280.121418\" xlink:href=\"#m956e5d641f\" y=\"224.64\"/>\r\n      </g>\r\n     </g>\r\n     <g id=\"text_7\">\r\n      <!-- 6 -->\r\n      <g transform=\"translate(276.940168 239.238437)scale(0.1 -0.1)\">\r\n       <defs>\r\n        <path d=\"M 33.015625 40.375 \r\nQ 26.375 40.375 22.484375 35.828125 \r\nQ 18.609375 31.296875 18.609375 23.390625 \r\nQ 18.609375 15.53125 22.484375 10.953125 \r\nQ 26.375 6.390625 33.015625 6.390625 \r\nQ 39.65625 6.390625 43.53125 10.953125 \r\nQ 47.40625 15.53125 47.40625 23.390625 \r\nQ 47.40625 31.296875 43.53125 35.828125 \r\nQ 39.65625 40.375 33.015625 40.375 \r\nz\r\nM 52.59375 71.296875 \r\nL 52.59375 62.3125 \r\nQ 48.875 64.0625 45.09375 64.984375 \r\nQ 41.3125 65.921875 37.59375 65.921875 \r\nQ 27.828125 65.921875 22.671875 59.328125 \r\nQ 17.53125 52.734375 16.796875 39.40625 \r\nQ 19.671875 43.65625 24.015625 45.921875 \r\nQ 28.375 48.1875 33.59375 48.1875 \r\nQ 44.578125 48.1875 50.953125 41.515625 \r\nQ 57.328125 34.859375 57.328125 23.390625 \r\nQ 57.328125 12.15625 50.6875 5.359375 \r\nQ 44.046875 -1.421875 33.015625 -1.421875 \r\nQ 20.359375 -1.421875 13.671875 8.265625 \r\nQ 6.984375 17.96875 6.984375 36.375 \r\nQ 6.984375 53.65625 15.1875 63.9375 \r\nQ 23.390625 74.21875 37.203125 74.21875 \r\nQ 40.921875 74.21875 44.703125 73.484375 \r\nQ 48.484375 72.75 52.59375 71.296875 \r\nz\r\n\" id=\"DejaVuSans-54\"/>\r\n       </defs>\r\n       <use xlink:href=\"#DejaVuSans-54\"/>\r\n      </g>\r\n     </g>\r\n    </g>\r\n    <g id=\"xtick_8\">\r\n     <g id=\"line2d_8\">\r\n      <g>\r\n       <use style=\"stroke:#000000;stroke-width:0.8;\" x=\"317.663624\" xlink:href=\"#m956e5d641f\" y=\"224.64\"/>\r\n      </g>\r\n     </g>\r\n     <g id=\"text_8\">\r\n      <!-- 7 -->\r\n      <g transform=\"translate(314.482374 239.238437)scale(0.1 -0.1)\">\r\n       <defs>\r\n        <path d=\"M 8.203125 72.90625 \r\nL 55.078125 72.90625 \r\nL 55.078125 68.703125 \r\nL 28.609375 0 \r\nL 18.3125 0 \r\nL 43.21875 64.59375 \r\nL 8.203125 64.59375 \r\nz\r\n\" id=\"DejaVuSans-55\"/>\r\n       </defs>\r\n       <use xlink:href=\"#DejaVuSans-55\"/>\r\n      </g>\r\n     </g>\r\n    </g>\r\n    <g id=\"xtick_9\">\r\n     <g id=\"line2d_9\">\r\n      <g>\r\n       <use style=\"stroke:#000000;stroke-width:0.8;\" x=\"355.20583\" xlink:href=\"#m956e5d641f\" y=\"224.64\"/>\r\n      </g>\r\n     </g>\r\n     <g id=\"text_9\">\r\n      <!-- 8 -->\r\n      <g transform=\"translate(352.02458 239.238437)scale(0.1 -0.1)\">\r\n       <defs>\r\n        <path d=\"M 31.78125 34.625 \r\nQ 24.75 34.625 20.71875 30.859375 \r\nQ 16.703125 27.09375 16.703125 20.515625 \r\nQ 16.703125 13.921875 20.71875 10.15625 \r\nQ 24.75 6.390625 31.78125 6.390625 \r\nQ 38.8125 6.390625 42.859375 10.171875 \r\nQ 46.921875 13.96875 46.921875 20.515625 \r\nQ 46.921875 27.09375 42.890625 30.859375 \r\nQ 38.875 34.625 31.78125 34.625 \r\nz\r\nM 21.921875 38.8125 \r\nQ 15.578125 40.375 12.03125 44.71875 \r\nQ 8.5 49.078125 8.5 55.328125 \r\nQ 8.5 64.0625 14.71875 69.140625 \r\nQ 20.953125 74.21875 31.78125 74.21875 \r\nQ 42.671875 74.21875 48.875 69.140625 \r\nQ 55.078125 64.0625 55.078125 55.328125 \r\nQ 55.078125 49.078125 51.53125 44.71875 \r\nQ 48 40.375 41.703125 38.8125 \r\nQ 48.828125 37.15625 52.796875 32.3125 \r\nQ 56.78125 27.484375 56.78125 20.515625 \r\nQ 56.78125 9.90625 50.3125 4.234375 \r\nQ 43.84375 -1.421875 31.78125 -1.421875 \r\nQ 19.734375 -1.421875 13.25 4.234375 \r\nQ 6.78125 9.90625 6.78125 20.515625 \r\nQ 6.78125 27.484375 10.78125 32.3125 \r\nQ 14.796875 37.15625 21.921875 38.8125 \r\nz\r\nM 18.3125 54.390625 \r\nQ 18.3125 48.734375 21.84375 45.5625 \r\nQ 25.390625 42.390625 31.78125 42.390625 \r\nQ 38.140625 42.390625 41.71875 45.5625 \r\nQ 45.3125 48.734375 45.3125 54.390625 \r\nQ 45.3125 60.0625 41.71875 63.234375 \r\nQ 38.140625 66.40625 31.78125 66.40625 \r\nQ 25.390625 66.40625 21.84375 63.234375 \r\nQ 18.3125 60.0625 18.3125 54.390625 \r\nz\r\n\" id=\"DejaVuSans-56\"/>\r\n       </defs>\r\n       <use xlink:href=\"#DejaVuSans-56\"/>\r\n      </g>\r\n     </g>\r\n    </g>\r\n   </g>\r\n   <g id=\"matplotlib.axis_2\">\r\n    <g id=\"ytick_1\">\r\n     <g id=\"line2d_10\">\r\n      <defs>\r\n       <path d=\"M 0 0 \r\nL -3.5 0 \r\n\" id=\"mc5b975e045\" style=\"stroke:#000000;stroke-width:0.8;\"/>\r\n      </defs>\r\n      <g>\r\n       <use style=\"stroke:#000000;stroke-width:0.8;\" x=\"39.65\" xlink:href=\"#mc5b975e045\" y=\"224.64\"/>\r\n      </g>\r\n     </g>\r\n     <g id=\"text_10\">\r\n      <!-- 0 -->\r\n      <g transform=\"translate(26.2875 228.439219)scale(0.1 -0.1)\">\r\n       <use xlink:href=\"#DejaVuSans-48\"/>\r\n      </g>\r\n     </g>\r\n    </g>\r\n    <g id=\"ytick_2\">\r\n     <g id=\"line2d_11\">\r\n      <g>\r\n       <use style=\"stroke:#000000;stroke-width:0.8;\" x=\"39.65\" xlink:href=\"#mc5b975e045\" y=\"196.655444\"/>\r\n      </g>\r\n     </g>\r\n     <g id=\"text_11\">\r\n      <!-- 500 -->\r\n      <g transform=\"translate(13.5625 200.454663)scale(0.1 -0.1)\">\r\n       <use xlink:href=\"#DejaVuSans-53\"/>\r\n       <use x=\"63.623047\" xlink:href=\"#DejaVuSans-48\"/>\r\n       <use x=\"127.246094\" xlink:href=\"#DejaVuSans-48\"/>\r\n      </g>\r\n     </g>\r\n    </g>\r\n    <g id=\"ytick_3\">\r\n     <g id=\"line2d_12\">\r\n      <g>\r\n       <use style=\"stroke:#000000;stroke-width:0.8;\" x=\"39.65\" xlink:href=\"#mc5b975e045\" y=\"168.670888\"/>\r\n      </g>\r\n     </g>\r\n     <g id=\"text_12\">\r\n      <!-- 1000 -->\r\n      <g transform=\"translate(7.2 172.470107)scale(0.1 -0.1)\">\r\n       <use xlink:href=\"#DejaVuSans-49\"/>\r\n       <use x=\"63.623047\" xlink:href=\"#DejaVuSans-48\"/>\r\n       <use x=\"127.246094\" xlink:href=\"#DejaVuSans-48\"/>\r\n       <use x=\"190.869141\" xlink:href=\"#DejaVuSans-48\"/>\r\n      </g>\r\n     </g>\r\n    </g>\r\n    <g id=\"ytick_4\">\r\n     <g id=\"line2d_13\">\r\n      <g>\r\n       <use style=\"stroke:#000000;stroke-width:0.8;\" x=\"39.65\" xlink:href=\"#mc5b975e045\" y=\"140.686332\"/>\r\n      </g>\r\n     </g>\r\n     <g id=\"text_13\">\r\n      <!-- 1500 -->\r\n      <g transform=\"translate(7.2 144.485551)scale(0.1 -0.1)\">\r\n       <use xlink:href=\"#DejaVuSans-49\"/>\r\n       <use x=\"63.623047\" xlink:href=\"#DejaVuSans-53\"/>\r\n       <use x=\"127.246094\" xlink:href=\"#DejaVuSans-48\"/>\r\n       <use x=\"190.869141\" xlink:href=\"#DejaVuSans-48\"/>\r\n      </g>\r\n     </g>\r\n    </g>\r\n    <g id=\"ytick_5\">\r\n     <g id=\"line2d_14\">\r\n      <g>\r\n       <use style=\"stroke:#000000;stroke-width:0.8;\" x=\"39.65\" xlink:href=\"#mc5b975e045\" y=\"112.701776\"/>\r\n      </g>\r\n     </g>\r\n     <g id=\"text_14\">\r\n      <!-- 2000 -->\r\n      <g transform=\"translate(7.2 116.500995)scale(0.1 -0.1)\">\r\n       <use xlink:href=\"#DejaVuSans-50\"/>\r\n       <use x=\"63.623047\" xlink:href=\"#DejaVuSans-48\"/>\r\n       <use x=\"127.246094\" xlink:href=\"#DejaVuSans-48\"/>\r\n       <use x=\"190.869141\" xlink:href=\"#DejaVuSans-48\"/>\r\n      </g>\r\n     </g>\r\n    </g>\r\n    <g id=\"ytick_6\">\r\n     <g id=\"line2d_15\">\r\n      <g>\r\n       <use style=\"stroke:#000000;stroke-width:0.8;\" x=\"39.65\" xlink:href=\"#mc5b975e045\" y=\"84.71722\"/>\r\n      </g>\r\n     </g>\r\n     <g id=\"text_15\">\r\n      <!-- 2500 -->\r\n      <g transform=\"translate(7.2 88.516439)scale(0.1 -0.1)\">\r\n       <use xlink:href=\"#DejaVuSans-50\"/>\r\n       <use x=\"63.623047\" xlink:href=\"#DejaVuSans-53\"/>\r\n       <use x=\"127.246094\" xlink:href=\"#DejaVuSans-48\"/>\r\n       <use x=\"190.869141\" xlink:href=\"#DejaVuSans-48\"/>\r\n      </g>\r\n     </g>\r\n    </g>\r\n    <g id=\"ytick_7\">\r\n     <g id=\"line2d_16\">\r\n      <g>\r\n       <use style=\"stroke:#000000;stroke-width:0.8;\" x=\"39.65\" xlink:href=\"#mc5b975e045\" y=\"56.732664\"/>\r\n      </g>\r\n     </g>\r\n     <g id=\"text_16\">\r\n      <!-- 3000 -->\r\n      <g transform=\"translate(7.2 60.531883)scale(0.1 -0.1)\">\r\n       <use xlink:href=\"#DejaVuSans-51\"/>\r\n       <use x=\"63.623047\" xlink:href=\"#DejaVuSans-48\"/>\r\n       <use x=\"127.246094\" xlink:href=\"#DejaVuSans-48\"/>\r\n       <use x=\"190.869141\" xlink:href=\"#DejaVuSans-48\"/>\r\n      </g>\r\n     </g>\r\n    </g>\r\n    <g id=\"ytick_8\">\r\n     <g id=\"line2d_17\">\r\n      <g>\r\n       <use style=\"stroke:#000000;stroke-width:0.8;\" x=\"39.65\" xlink:href=\"#mc5b975e045\" y=\"28.748108\"/>\r\n      </g>\r\n     </g>\r\n     <g id=\"text_17\">\r\n      <!-- 3500 -->\r\n      <g transform=\"translate(7.2 32.547327)scale(0.1 -0.1)\">\r\n       <use xlink:href=\"#DejaVuSans-51\"/>\r\n       <use x=\"63.623047\" xlink:href=\"#DejaVuSans-53\"/>\r\n       <use x=\"127.246094\" xlink:href=\"#DejaVuSans-48\"/>\r\n       <use x=\"190.869141\" xlink:href=\"#DejaVuSans-48\"/>\r\n      </g>\r\n     </g>\r\n    </g>\r\n   </g>\r\n   <g id=\"patch_13\">\r\n    <path d=\"M 39.65 224.64 \r\nL 39.65 7.2 \r\n\" style=\"fill:none;stroke:#000000;stroke-linecap:square;stroke-linejoin:miter;stroke-width:0.8;\"/>\r\n   </g>\r\n   <g id=\"patch_14\">\r\n    <path d=\"M 374.45 224.64 \r\nL 374.45 7.2 \r\n\" style=\"fill:none;stroke:#000000;stroke-linecap:square;stroke-linejoin:miter;stroke-width:0.8;\"/>\r\n   </g>\r\n   <g id=\"patch_15\">\r\n    <path d=\"M 39.65 224.64 \r\nL 374.45 224.64 \r\n\" style=\"fill:none;stroke:#000000;stroke-linecap:square;stroke-linejoin:miter;stroke-width:0.8;\"/>\r\n   </g>\r\n   <g id=\"patch_16\">\r\n    <path d=\"M 39.65 7.2 \r\nL 374.45 7.2 \r\n\" style=\"fill:none;stroke:#000000;stroke-linecap:square;stroke-linejoin:miter;stroke-width:0.8;\"/>\r\n   </g>\r\n  </g>\r\n </g>\r\n <defs>\r\n  <clipPath id=\"pa826f04071\">\r\n   <rect height=\"217.44\" width=\"334.8\" x=\"39.65\" y=\"7.2\"/>\r\n  </clipPath>\r\n </defs>\r\n</svg>\r\n",
      "image/png": "[encoded data removed]"
     },
     "metadata": {
      "needs_background": "light"
     }
    }
   ],
   "source": [
    "import matplotlib.pyplot as plt \n",
    "plt.hist(x)"
   ]
  },
  {
   "source": [],
   "cell_type": "markdown",
   "metadata": {}
  },
  {
   "cell_type": "code",
   "execution_count": 35,
   "metadata": {},
   "outputs": [
    {
     "output_type": "stream",
     "name": "stdout",
     "text": [
      "1\nInt64Index([  0,   1,   2,   3,   4,   5,   6,   7,   8,   9,\n            ...\n             91,  92,  93,  94,  95,  96,  97,  98,  99, 100],\n           dtype='int64', length=101)\n2\nInt64Index([101, 102, 103, 104, 105, 106, 107, 108, 109, 110, 111, 112, 113,\n            114, 115, 116, 117, 118, 119, 120, 121, 122, 123, 124, 125, 126,\n            127, 128, 129, 130, 131, 132, 133, 134, 135, 136, 137, 138, 139,\n            140, 141, 142, 143, 144, 145, 146, 147, 148, 149, 150, 151, 152,\n            153, 154, 155, 156, 157, 158, 159, 160, 161, 162, 163, 164, 165,\n            166, 167, 168, 169, 170, 171, 172, 173, 174, 175, 176, 177, 178,\n            179, 180, 181, 182, 183, 184, 185, 186],\n           dtype='int64')\n3\nInt64Index([187, 188, 189, 190, 191, 192, 193, 194, 195, 196, 197, 198, 199,\n            200, 201, 202, 203, 204, 205, 206, 207, 208, 209, 210],\n           dtype='int64')\n4\nInt64Index([211, 212, 213, 214, 215, 216, 217, 218, 219, 220, 221, 222, 223,\n            224, 225, 226, 227, 228, 229, 230, 231, 232, 233, 234],\n           dtype='int64')\n"
     ]
    }
   ],
   "source": [
    "tmp1 = tmp1.sort_values('encoded_activity').reset_index(drop = True)\n",
    "for i, grp in  tmp1.groupby('encoded_activity'): \n",
    "    print(i)\n",
    "    print(grp.index)"
   ]
  },
  {
   "cell_type": "code",
   "execution_count": 36,
   "metadata": {},
   "outputs": [
    {
     "output_type": "execute_result",
     "data": {
      "text/plain": [
       "     feature_1  feature_2  feature_3  user_id  encoded_activity\n",
       "0     3.801953   9.931250  -0.510234        1                 1\n",
       "1    -8.302109   5.957891  -0.123984        1                 1\n",
       "2    -8.327734   6.161719  -0.095391        1                 1\n",
       "3    -8.337969   6.182812  -0.078594        1                 1\n",
       "4    -8.063203   5.927500  -0.274922        1                 1\n",
       "..         ...        ...        ...      ...               ...\n",
       "230  -6.075703   8.751875   0.696406        1                 4\n",
       "231  -1.968672  10.468984   0.640781        1                 4\n",
       "232  -5.264062   6.089375   0.535078        1                 4\n",
       "233   6.548594   9.072812   0.398203        1                 4\n",
       "234   0.958846  10.640385   0.690769        1                 4\n",
       "\n",
       "[235 rows x 5 columns]"
      ],
      "text/html": "<div>\n<style scoped>\n    .dataframe tbody tr th:only-of-type {\n        vertical-align: middle;\n    }\n\n    .dataframe tbody tr th {\n        vertical-align: top;\n    }\n\n    .dataframe thead th {\n        text-align: right;\n    }\n</style>\n<table border=\"1\" class=\"dataframe\">\n  <thead>\n    <tr style=\"text-align: right;\">\n      <th></th>\n      <th>feature_1</th>\n      <th>feature_2</th>\n      <th>feature_3</th>\n      <th>user_id</th>\n      <th>encoded_activity</th>\n    </tr>\n  </thead>\n  <tbody>\n    <tr>\n      <th>0</th>\n      <td>3.801953</td>\n      <td>9.931250</td>\n      <td>-0.510234</td>\n      <td>1</td>\n      <td>1</td>\n    </tr>\n    <tr>\n      <th>1</th>\n      <td>-8.302109</td>\n      <td>5.957891</td>\n      <td>-0.123984</td>\n      <td>1</td>\n      <td>1</td>\n    </tr>\n    <tr>\n      <th>2</th>\n      <td>-8.327734</td>\n      <td>6.161719</td>\n      <td>-0.095391</td>\n      <td>1</td>\n      <td>1</td>\n    </tr>\n    <tr>\n      <th>3</th>\n      <td>-8.337969</td>\n      <td>6.182812</td>\n      <td>-0.078594</td>\n      <td>1</td>\n      <td>1</td>\n    </tr>\n    <tr>\n      <th>4</th>\n      <td>-8.063203</td>\n      <td>5.927500</td>\n      <td>-0.274922</td>\n      <td>1</td>\n      <td>1</td>\n    </tr>\n    <tr>\n      <th>...</th>\n      <td>...</td>\n      <td>...</td>\n      <td>...</td>\n      <td>...</td>\n      <td>...</td>\n    </tr>\n    <tr>\n      <th>230</th>\n      <td>-6.075703</td>\n      <td>8.751875</td>\n      <td>0.696406</td>\n      <td>1</td>\n      <td>4</td>\n    </tr>\n    <tr>\n      <th>231</th>\n      <td>-1.968672</td>\n      <td>10.468984</td>\n      <td>0.640781</td>\n      <td>1</td>\n      <td>4</td>\n    </tr>\n    <tr>\n      <th>232</th>\n      <td>-5.264062</td>\n      <td>6.089375</td>\n      <td>0.535078</td>\n      <td>1</td>\n      <td>4</td>\n    </tr>\n    <tr>\n      <th>233</th>\n      <td>6.548594</td>\n      <td>9.072812</td>\n      <td>0.398203</td>\n      <td>1</td>\n      <td>4</td>\n    </tr>\n    <tr>\n      <th>234</th>\n      <td>0.958846</td>\n      <td>10.640385</td>\n      <td>0.690769</td>\n      <td>1</td>\n      <td>4</td>\n    </tr>\n  </tbody>\n</table>\n<p>235 rows × 5 columns</p>\n</div>"
     },
     "metadata": {},
     "execution_count": 36
    }
   ],
   "source": [
    "tmp1"
   ]
  },
  {
   "cell_type": "code",
   "execution_count": 57,
   "metadata": {},
   "outputs": [
    {
     "output_type": "stream",
     "name": "stdout",
     "text": [
      "[0.62632135 1.27807965 2.4519086  3.01938972 3.46231877 4.02243838]\n"
     ]
    }
   ],
   "source": [
    "dist_mat = pd.DataFrame(sp.distance.cdist(tmp1.iloc[:, :3].values, \n",
    "                            tmp1.iloc[:, :3].values,\n",
    "                            metric = 'mahalanobis'))\n",
    "x = dist_mat.values.reshape(1,-1).ravel()\n",
    "print(np.quantile(x, [0.1, 0.25, 0.5, 0.75, 0.9, 0.99]))"
   ]
  },
  {
   "cell_type": "code",
   "execution_count": 58,
   "metadata": {},
   "outputs": [
    {
     "output_type": "stream",
     "name": "stdout",
     "text": [
      "[0.29241292 0.65822706 2.49526229 3.32095772 3.64893451 4.04129326]\n"
     ]
    }
   ],
   "source": [
    "# 1 vs 1 \n",
    "x= dist_mat.iloc[:100, :100].values.reshape(1,-1).ravel()\n",
    "print(np.quantile(x, [0.1, 0.25, 0.5, 0.75, 0.9, 0.99]))"
   ]
  },
  {
   "cell_type": "code",
   "execution_count": 59,
   "metadata": {},
   "outputs": [
    {
     "output_type": "stream",
     "name": "stdout",
     "text": [
      "[0.81581104 1.02772297 2.45861207 2.96133222 3.36613607 3.96695638]\n"
     ]
    }
   ],
   "source": [
    "# 1 vs 2\n",
    "x= dist_mat.iloc[:100, 101:186].values.reshape(1,-1).ravel()\n",
    "print(np.quantile(x, [0.1, 0.25, 0.5, 0.75, 0.9, 0.99]))"
   ]
  },
  {
   "cell_type": "code",
   "execution_count": 63,
   "metadata": {},
   "outputs": [
    {
     "output_type": "stream",
     "name": "stdout",
     "text": [
      "[0.22605604 0.44316462 1.73149108 2.8620132  3.13409488 3.73180323]\n"
     ]
    }
   ],
   "source": [
    "# 2 vs 2\n",
    "x= dist_mat.iloc[101:186, 101:186].values.reshape(1,-1).ravel()\n",
    "print(np.quantile(x, [0.1, 0.25, 0.5, 0.75, 0.9, 0.99]))"
   ]
  },
  {
   "cell_type": "code",
   "execution_count": null,
   "metadata": {},
   "outputs": [],
   "source": []
  },
  {
   "cell_type": "code",
   "execution_count": 60,
   "metadata": {},
   "outputs": [
    {
     "output_type": "stream",
     "name": "stdout",
     "text": [
      "[1.46939197 2.05141805 2.40231691 2.88190799 3.37395023 3.85781854]\n"
     ]
    }
   ],
   "source": [
    "# 1 vs 3\n",
    "x= dist_mat.iloc[:100, 187:210].values.reshape(1,-1).ravel()\n",
    "print(np.quantile(x, [0.1, 0.25, 0.5, 0.75, 0.9, 0.99]))"
   ]
  },
  {
   "cell_type": "code",
   "execution_count": 62,
   "metadata": {},
   "outputs": [
    {
     "output_type": "stream",
     "name": "stdout",
     "text": [
      "[1.57461957 2.16633632 2.7634898  3.287306   3.65140674 4.31198969]\n"
     ]
    }
   ],
   "source": [
    "# 1 vs 4 \n",
    "x= dist_mat.iloc[:100, 211:].values.reshape(1,-1).ravel()\n",
    "print(np.quantile(x, [0.1, 0.25, 0.5, 0.75, 0.9, 0.99]))"
   ]
  }
 ]
}